{
 "cells": [
  {
   "cell_type": "code",
   "execution_count": 1,
   "id": "1a346495",
   "metadata": {},
   "outputs": [],
   "source": [
    "import numpy as np\n",
    "import matplotlib.pyplot as plt\n",
    "import time"
   ]
  },
  {
   "cell_type": "code",
   "execution_count": 2,
   "id": "8421f82d",
   "metadata": {},
   "outputs": [],
   "source": [
    "# t = 100\n",
    "batch = 50\n",
    "lr = 1\n",
    "epochs = 5"
   ]
  },
  {
   "cell_type": "code",
   "execution_count": 3,
   "id": "868e6937",
   "metadata": {},
   "outputs": [
    {
     "data": {
      "text/plain": [
       "8"
      ]
     },
     "execution_count": 3,
     "metadata": {},
     "output_type": "execute_result"
    }
   ],
   "source": [
    "# Step 1:\n",
    "# Training Data:\n",
    "train_images_file = open('train-images.idx3-ubyte', 'rb')\n",
    "train_images_file.seek(4)\n",
    "num_of_train_images = int.from_bytes(train_images_file.read(4), 'big')\n",
    "train_images_file.seek(16)\n",
    "\n",
    "train_labels_file = open('train-labels.idx1-ubyte', 'rb')\n",
    "train_labels_file.seek(8)"
   ]
  },
  {
   "cell_type": "code",
   "execution_count": 4,
   "id": "98ff28f2",
   "metadata": {},
   "outputs": [],
   "source": [
    "X_train = []\n",
    "y_train = []\n",
    "\n",
    "for n in range(num_of_train_images):\n",
    "    image = np.zeros((784, 1))\n",
    "    for i in range(784):\n",
    "        image[i, 0] = int.from_bytes(train_images_file.read(1), 'big') / 256\n",
    "    \n",
    "    label_value = int.from_bytes(train_labels_file.read(1), 'big')\n",
    "    label = np.zeros((10, 1))\n",
    "    label[label_value, 0] = 1\n",
    "    \n",
    "    X_train.append(image)\n",
    "    y_train.append(label)\n",
    "    \n",
    "X_train = np.array(X_train)\n",
    "y_train = np.array(y_train)\n",
    "\n",
    "y_train = y_train.reshape(y_train.shape[0], y_train.shape[1])\n",
    "X_train = X_train.reshape(X_train.shape[0], X_train.shape[1])"
   ]
  },
  {
   "cell_type": "code",
   "execution_count": 5,
   "id": "a77dc002",
   "metadata": {},
   "outputs": [
    {
     "data": {
      "text/plain": [
       "16"
      ]
     },
     "execution_count": 5,
     "metadata": {},
     "output_type": "execute_result"
    }
   ],
   "source": [
    "# Test Data\n",
    "test_images_file = open('t10k-images.idx3-ubyte', 'rb')\n",
    "test_images_file.seek(4)\n",
    "\n",
    "test_labels_file = open('t10k-labels.idx1-ubyte', 'rb')\n",
    "test_labels_file.seek(8)\n",
    "\n",
    "num_of_test_images = int.from_bytes(test_images_file.read(4), 'big')\n",
    "test_images_file.seek(16)"
   ]
  },
  {
   "cell_type": "code",
   "execution_count": 6,
   "id": "e67e78a8",
   "metadata": {},
   "outputs": [],
   "source": [
    "X_test = []\n",
    "y_test = []\n",
    "\n",
    "for n in range(num_of_test_images):\n",
    "    image = np.zeros((784, 1))\n",
    "    for i in range(784):\n",
    "        image[i] = int.from_bytes(test_images_file.read(1), 'big') / 256\n",
    "    \n",
    "    label_value = int.from_bytes(test_labels_file.read(1), 'big')\n",
    "    label = np.zeros((10, 1))\n",
    "    label[label_value, 0] = 1\n",
    "    \n",
    "    X_test.append(image)\n",
    "    y_test.append(label)\n",
    "    \n",
    "X_test = np.array(X_test)\n",
    "y_test = np.array(y_test)\n",
    "\n",
    "y_test = y_test.reshape(y_test.shape[0], y_test.shape[1])\n",
    "X_test = X_test.reshape(X_test.shape[0], X_test.shape[1])"
   ]
  },
  {
   "cell_type": "code",
   "execution_count": 7,
   "id": "4c4c36b3",
   "metadata": {},
   "outputs": [],
   "source": [
    "def show_image(img):\n",
    "    image = img.reshape((28, 28))\n",
    "    plt.imshow(image, 'gray')"
   ]
  },
  {
   "cell_type": "code",
   "execution_count": 8,
   "id": "58dd7a10",
   "metadata": {},
   "outputs": [],
   "source": [
    "class NeuralNetwork:\n",
    "    def __init__(self, X, y):\n",
    "        self.input = X \n",
    "        self.ans = y\n",
    "\n",
    "        self.x = self.input[:batch] \n",
    "        self.y = self.ans[:batch]\n",
    "        \n",
    "        self.loss = []\n",
    "        self.acc = []\n",
    "        \n",
    "        self.init_weights()\n",
    "\n",
    "    # Step 2:\n",
    "    def init_weights(self):\n",
    "        self.W1 = np.random.randn(self.input.shape[1],16)\n",
    "        self.W2 = np.random.randn(self.W1.shape[1],16)\n",
    "        self.W3 = np.random.randn(self.W2.shape[1],self.y.shape[1])\n",
    "\n",
    "        self.b1 = np.zeros(self.W1.shape[1],)\n",
    "        self.b2 = np.zeros(self.W2.shape[1],)\n",
    "        self.b3 = np.zeros(self.W3.shape[1],)\n",
    "\n",
    "    def sigmoid(self, x):\n",
    "        return 1.0 / (1.0 + np.exp(-x))    \n",
    "\n",
    "    def d_sigmoid(self, x):\n",
    "        return (np.exp(-x)) / ((np.exp(-x) + 1) ** 2) \n",
    "    \n",
    "    def softmax(self, z):\n",
    "        z -= np.max(z, axis = 1).reshape(z.shape[0], 1)\n",
    "        return np.exp(z) / np.sum(np.exp(z), axis = 1).reshape(z.shape[0], 1)\n",
    "        \n",
    "    def feed_forward(self):        \n",
    "        self.z1 = self.x.dot(self.W1) + self.b1\n",
    "        self.a1 = self.sigmoid(self.z1)\n",
    "\n",
    "        self.z2 = self.a1.dot(self.W2) + self.b2\n",
    "        self.a2 = self.sigmoid(self.z2)\n",
    "\n",
    "        self.z3 = self.a2.dot(self.W3) + self.b3\n",
    "        self.a3 = self.softmax(self.z3)\n",
    "        self.error = self.a3 - self.y\n",
    "\n",
    "    # Step 3:\n",
    "    def back_propagation(self):\n",
    "        cost = (1 / batch) * self.error\n",
    "        \n",
    "        # Step 4:\n",
    "        GD_W3 = np.dot(cost.T, self.a2).T\n",
    "        GD_W2 = np.dot((np.dot((cost), self.W3.T) * self.d_sigmoid(self.z2)).T, self.a1).T\n",
    "        GD_W1 = np.dot((np.dot(np.dot((cost), self.W3.T) * self.d_sigmoid(self.z2), self.W2.T) * self.d_sigmoid(self.z1)).T, self.x).T                \n",
    "\n",
    "        db3 = np.sum(cost, axis = 0)\n",
    "        db2 = np.sum(np.dot((cost), self.W3.T) * self.d_sigmoid(self.z2), axis = 0)\n",
    "        db1 = np.sum((np.dot(np.dot((cost), self.W3.T) * self.d_sigmoid(self.z2), self.W2.T) * self.d_sigmoid(self.z1)), axis = 0)\n",
    "                \n",
    "        self.W3 = self.W3 - lr * GD_W3\n",
    "        self.W2 = self.W2 - lr * GD_W2\n",
    "        self.W1 = self.W1 - lr * GD_W1\n",
    "        \n",
    "        self.b3 = self.b3 - lr * db3\n",
    "        self.b2 = self.b2 - lr * db2\n",
    "        self.b1 = self.b1 - lr * db1\n",
    "\n",
    "    def shuffle(self):\n",
    "        idx = [i for i in range(self.input.shape[0])]\n",
    "        np.random.shuffle(idx)\n",
    "        self.input = self.input[idx]\n",
    "        self.ans = self.ans[idx]\n",
    "        \n",
    "    def train(self):\n",
    "        start_time = time.time()\n",
    "\n",
    "        for epoch in range(epochs):\n",
    "            l = 0\n",
    "            acc = 0\n",
    "            self.shuffle()\n",
    "            \n",
    "            for bat in range(self.input.shape[0] // batch - 1):\n",
    "                start = bat * batch\n",
    "                end = (bat + 1) * batch\n",
    "                self.x = self.input[start:end]\n",
    "                self.y = self.ans[start:end]\n",
    "                self.feed_forward()\n",
    "                self.back_propagation()\n",
    "                l += np.mean(self.error ** 2)\n",
    "                acc += np.count_nonzero(np.argmax(self.a3, axis=1) == np.argmax(self.y, axis=1)) / batch\n",
    "                \n",
    "            self.loss.append(l / (self.input.shape[0] // batch))\n",
    "            self.acc.append(acc * 100 / (self.input.shape[0] // batch))\n",
    "            \n",
    "        print(f'Time Spent: {time.time() - start_time} s')\n",
    "            \n",
    "    def plot(self):\n",
    "        plt.figure(dpi = 125)\n",
    "        plt.plot(self.loss)\n",
    "        plt.xlabel(\"Epochs\")\n",
    "        plt.ylabel(\"Loss\")\n",
    "    \n",
    "    def acc_plot(self):\n",
    "        plt.figure(dpi = 125)\n",
    "        plt.plot(self.acc)\n",
    "        plt.xlabel(\"Epochs\")\n",
    "        plt.ylabel(\"Accuracy\")\n",
    "        \n",
    "    def test(self, xt, yt):\n",
    "        self.x = xt\n",
    "        self.y = yt\n",
    "        self.feed_forward()\n",
    "        \n",
    "        acc = np.count_nonzero(np.argmax(self.a3, axis=1) == np.argmax(self.y, axis=1)) / self.x.shape[0]\n",
    "        return acc * 100"
   ]
  },
  {
   "cell_type": "code",
   "execution_count": 9,
   "id": "b477e303",
   "metadata": {},
   "outputs": [
    {
     "name": "stdout",
     "output_type": "stream",
     "text": [
      "Time Spent: 8.884374380111694 s\n",
      "Test Data Accuracy: 92.2 %\n",
      "Train Data Accuracy: 92.58333333333333 %\n"
     ]
    },
    {
     "data": {
      "image/png": "[encoded data removed]",
      "text/plain": [
       "<Figure size 750x500 with 1 Axes>"
      ]
     },
     "metadata": {
      "needs_background": "light"
     },
     "output_type": "display_data"
    }
   ],
   "source": [
    "NN = NeuralNetwork(X_train, y_train) \n",
    "NN.train()\n",
    "NN.plot()\n",
    "print(f\"Test Data Accuracy: {NN.test(X_test, y_test)} %\")\n",
    "print(f\"Train Data Accuracy: {NN.test(X_train, y_train)} %\")"
   ]
  },
  {
   "cell_type": "code",
   "execution_count": 10,
   "id": "21ff2c48",
   "metadata": {},
   "outputs": [
    {
     "data": {
      "image/png": "[encoded data removed]",
      "text/plain": [
       "<Figure size 750x500 with 1 Axes>"
      ]
     },
     "metadata": {
      "needs_background": "light"
     },
     "output_type": "display_data"
    }
   ],
   "source": [
    "NN.acc_plot()"
   ]
  },
  {
   "cell_type": "code",
   "execution_count": null,
   "id": "6975eb8e",
   "metadata": {},
   "outputs": [],
   "source": []
  }
 ],
 "metadata": {
  "kernelspec": {
   "display_name": "Python 3 (ipykernel)",
   "language": "python",
   "name": "python3"
  },
  "language_info": {
   "codemirror_mode": {
    "name": "ipython",
    "version": 3
   },
   "file_extension": ".py",
   "mimetype": "text/x-python",
   "name": "python",
   "nbconvert_exporter": "python",
   "pygments_lexer": "ipython3",
   "version": "3.10.7"
  }
 },
 "nbformat": 4,
 "nbformat_minor": 5
}
